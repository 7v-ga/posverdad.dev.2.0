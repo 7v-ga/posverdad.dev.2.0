{
 "cells": [
  {
   "cell_type": "markdown",
   "id": "c9b788bc",
   "metadata": {},
   "source": [
    "# Postverdad — Dashboard base (polarity & subjectivity)\n",
    "\n",
    "Este notebook carga datos desde Postgres, usa las vistas propuestas y genera tablas y gráficos básicos.\n",
    "\n",
    "**Requisitos previos**\n",
    "- Variables de entorno: `POSTGRES_HOST`, `POSTGRES_PORT`, `POSTGRES_DB`, `POSTGRES_USER`, `POSTGRES_PASSWORD`.\n",
    "- Vistas creadas ejecutando el archivo SQL: `postverdad_views.sql`.\n",
    "\n",
    "> Nota: Si aún no creaste las vistas, puedes reemplazar las consultas a `vw_*` por los SELECT equivalentes en este notebook.\n"
   ]
  },
  {
   "cell_type": "code",
   "execution_count": null,
   "id": "770bed67",
   "metadata": {},
   "outputs": [],
   "source": [
    "import os\n",
    "import pandas as pd\n",
    "import psycopg2\n",
    "from psycopg2.extras import RealDictCursor\n",
    "import matplotlib.pyplot as plt\n",
    "\n",
    "# No fijar estilos ni colores específicos (requisito)\n",
    "pd.set_option('display.max_rows', 20)\n",
    "\n",
    "PG = {\n",
    "    \"host\": os.getenv(\"POSTGRES_HOST\", \"localhost\"),\n",
    "    \"port\": int(os.getenv(\"POSTGRES_PORT\", \"5432\")),\n",
    "    \"dbname\": os.getenv(\"POSTGRES_DB\", \"postverdad\"),\n",
    "    \"user\": os.getenv(\"POSTGRES_USER\", \"postverdad\"),\n",
    "    \"password\": os.getenv(\"POSTGRES_PASSWORD\", \"postverdad\"),\n",
    "}\n",
    "PG\n"
   ]
  },
  {
   "cell_type": "code",
   "execution_count": null,
   "id": "efc3842d",
   "metadata": {},
   "outputs": [],
   "source": [
    "def read_sql_df(query, params=None):\n",
    "    conn = psycopg2.connect(**PG)\n",
    "    try:\n",
    "        with conn.cursor(cursor_factory=RealDictCursor) as cur:\n",
    "            cur.execute(query, params or {})\n",
    "            rows = cur.fetchall()\n",
    "        return pd.DataFrame(rows)\n",
    "    finally:\n",
    "        conn.close()"
   ]
  },
  {
   "cell_type": "markdown",
   "id": "a1e13469",
   "metadata": {},
   "source": [
    "## Cargar vistas"
   ]
  },
  {
   "cell_type": "code",
   "execution_count": null,
   "id": "f2d04028",
   "metadata": {},
   "outputs": [],
   "source": [
    "df_articles = read_sql_df(\"SELECT * FROM vw_articles_labeled LIMIT 5000;\")\n",
    "df_monthly = read_sql_df(\"SELECT * FROM vw_monthly_media_metrics ORDER BY month DESC, source;\")\n",
    "df_matrix = read_sql_df(\"SELECT * FROM vw_last30_polarity_subjectivity_matrix;\")\n",
    "\n",
    "display(df_articles.head(10))\n",
    "display(df_monthly.head(10))\n",
    "display(df_matrix.head(10))\n"
   ]
  },
  {
   "cell_type": "markdown",
   "id": "3ce12890",
   "metadata": {},
   "source": [
    "## Gráficos"
   ]
  },
  {
   "cell_type": "code",
   "execution_count": null,
   "id": "66ff071c",
   "metadata": {},
   "outputs": [],
   "source": [
    "# Distribución polarity por fuente (top 10 por volumen en df_articles)\n",
    "top_sources = (\n",
    "    df_articles['source'].value_counts()\n",
    "      .head(10)\n",
    "      .index\n",
    ")\n",
    "sub = df_articles[df_articles['source'].isin(top_sources)]\n",
    "plot_data = (\n",
    "    sub.groupby(['source','polarity_label'])\n",
    "       .size()\n",
    "       .unstack(fill_value=0)\n",
    "       .reindex(top_sources)\n",
    ")\n",
    "\n",
    "ax = plot_data.plot(kind='bar', figsize=(10,5))\n",
    "ax.set_title('Distribución de polarity por fuente (top 10)')\n",
    "ax.set_xlabel('Fuente')\n",
    "ax.set_ylabel('Número de artículos')\n",
    "plt.tight_layout()\n",
    "plt.show()"
   ]
  },
  {
   "cell_type": "code",
   "execution_count": null,
   "id": "71f72a9b",
   "metadata": {},
   "outputs": [],
   "source": [
    "# Histograma de subjetividad\n",
    "ax2 = df_articles['subjectivity'].dropna().plot(kind='hist', bins=30, figsize=(8,4))\n",
    "ax2.set_title('Histograma de subjetividad')\n",
    "ax2.set_xlabel('Subjectivity')\n",
    "plt.tight_layout()\n",
    "plt.show()"
   ]
  },
  {
   "cell_type": "code",
   "execution_count": null,
   "id": "ccb3727d",
   "metadata": {},
   "outputs": [],
   "source": [
    "# Evolución mensual por fuente (ejemplo con una fuente)\n",
    "if not df_monthly.empty:\n",
    "    fuente = df_monthly['source'].iloc[0]\n",
    "    dm = df_monthly[df_monthly['source'] == fuente].sort_values('month')\n",
    "    ax3 = dm.set_index('month')[['pct_neg','pct_neu','pct_pos']].plot(figsize=(10,5))\n",
    "    ax3.set_title(f'Evolución % polarity — {fuente}')\n",
    "    ax3.set_xlabel('Mes')\n",
    "    ax3.set_ylabel('% artículos')\n",
    "    plt.tight_layout()\n",
    "    plt.show()"
   ]
  }
 ],
 "metadata": {
  "language_info": {
   "name": "python"
  }
 },
 "nbformat": 4,
 "nbformat_minor": 5
}
